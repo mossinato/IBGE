{
 "cells": [
  {
   "cell_type": "markdown",
   "metadata": {},
   "source": [
    "# Converting Brazilian KMZ files to GeoJSON\n",
    "\n",
    "Files were download from IBGE trough ftp connection at ftp.ibge.gov.br  \n",
    "/organizacao_do_territorio  \n",
    "  /malhas_territoriais  \n",
    "    /malhas_de_setores_censitarios__divisoes_intramunicipais  \n",
    "      /censo_2010  \n",
    "        /setores_censitarios_kmz  \n",
    "\n",
    "We gonna convert all files to geojson so we can use geopandas"
   ]
  },
  {
   "cell_type": "code",
   "execution_count": 53,
   "metadata": {},
   "outputs": [],
   "source": [
    "import os\n",
    "import shutil\n",
    "from zipfile import ZipFile"
   ]
  },
  {
   "cell_type": "markdown",
   "metadata": {},
   "source": [
    "### Path to KMZ files"
   ]
  },
  {
   "cell_type": "code",
   "execution_count": 30,
   "metadata": {},
   "outputs": [],
   "source": [
    "PATH_KMZ = \"/home/igor/Data/raw/IBGE/kmz_brazil/\"\n",
    "PATH_GEOJSON = \"/home/igor/Data/raw/IBGE/geojson_brazil/\""
   ]
  },
  {
   "cell_type": "markdown",
   "metadata": {},
   "source": [
    "### Extracting Process"
   ]
  },
  {
   "cell_type": "code",
   "execution_count": 81,
   "metadata": {},
   "outputs": [],
   "source": [
    "for file_name in os.listdir(PATH):\n",
    "    file = file_name.split('.')[0]\n",
    "    # tmp folder\n",
    "    os.mkdir('{path}tmp'.format(path=PATH_KMZ))\n",
    "    # copy to tmp folder\n",
    "    shutil.copy('{path}{file}.kmz'.format(path=PATH_KMZ, file=file),'{path}tmp/{file}.zip'.format(path=PATH_KMZ, file=file))\n",
    "    # unzip kmz file\n",
    "    zipObj = ZipFile('{path}tmp/{file}.zip'.format(path=PATH_KMZ, file=file), 'r')\n",
    "    zipObj.extractall(path='{path}tmp/'.format(path=PATH_KMZ))\n",
    "    # rename doc.kml to file_name.kml\n",
    "    os.rename('{path}tmp/doc.kml'.format(path=PATH_KMZ),'{path}tmp/{file}.kml'.format(path=PATH_KMZ, file=file))\n",
    "    # convert to geojson\n",
    "    os.system('k2g {path}tmp/{file}.kml {PATH_GEOJSON}/'.format(path=PATH_KMZ, file = file, PATH_GEOJSON=PATH_GEOJSON))\n",
    "    # delete tmp folder\n",
    "    shutil.rmtree('{path}tmp'.format(path=PATH_KMZ))"
   ]
  },
  {
   "cell_type": "markdown",
   "metadata": {},
   "source": [
    "## Pseudo-code\n",
    "for arquivo em aquivos_da_pasta:  \n",
    "    mkdir temp  \n",
    "    cp arquivo.kmz temp/arquivo.zip  \n",
    "    unzip temp/arquivo.zip  \n",
    "    mv doc.kml arquivo.kml  \n",
    "    k2g arquivo.kml PATH_TO_GEOJSON/  \n",
    "    rm -r temp  "
   ]
  },
  {
   "cell_type": "code",
   "execution_count": null,
   "metadata": {},
   "outputs": [],
   "source": []
  }
 ],
 "metadata": {
  "kernelspec": {
   "display_name": "Python 3",
   "language": "python",
   "name": "python3"
  },
  "language_info": {
   "codemirror_mode": {
    "name": "ipython",
    "version": 3
   },
   "file_extension": ".py",
   "mimetype": "text/x-python",
   "name": "python",
   "nbconvert_exporter": "python",
   "pygments_lexer": "ipython3",
   "version": "3.6.9"
  }
 },
 "nbformat": 4,
 "nbformat_minor": 4
}
